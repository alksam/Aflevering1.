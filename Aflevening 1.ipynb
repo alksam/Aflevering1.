{
 "cells": [
  {
   "cell_type": "markdown",
   "id": "5c4a5753-4e6b-4655-8e44-0f5dbaee273b",
   "metadata": {},
   "source": [
    "## Data Transformation"
   ]
  },
  {
   "cell_type": "code",
   "execution_count": 1,
   "id": "a42b2b9a-3f61-49cd-b1be-8548a81cb97f",
   "metadata": {},
   "outputs": [],
   "source": [
    "import numpy as np \n",
    "import pandas as pd\n"
   ]
  },
  {
   "cell_type": "code",
   "execution_count": 2,
   "id": "1b06b95a-c6ca-4f7a-9f26-1f30ebb41411",
   "metadata": {},
   "outputs": [],
   "source": [
    "dataset = \"https://raw.githubusercontent.com/TrainingByPackt/Data-Science-with-Python/master/Chapter01/Data/student.csv\""
   ]
  },
  {
   "cell_type": "code",
   "execution_count": 3,
   "id": "550878d9-523a-44b4-a1fb-c042cd09a82a",
   "metadata": {},
   "outputs": [],
   "source": [
    "df = pd.read_csv(dataset, header = 0)"
   ]
  },
  {
   "cell_type": "code",
   "execution_count": 4,
   "id": "881f204a-78c3-4951-a4e2-62a932d068a6",
   "metadata": {},
   "outputs": [
    {
     "data": {
      "text/html": [
       "<div>\n",
       "<style scoped>\n",
       "    .dataframe tbody tr th:only-of-type {\n",
       "        vertical-align: middle;\n",
       "    }\n",
       "\n",
       "    .dataframe tbody tr th {\n",
       "        vertical-align: top;\n",
       "    }\n",
       "\n",
       "    .dataframe thead th {\n",
       "        text-align: right;\n",
       "    }\n",
       "</style>\n",
       "<table border=\"1\" class=\"dataframe\">\n",
       "  <thead>\n",
       "    <tr style=\"text-align: right;\">\n",
       "      <th></th>\n",
       "      <th>Student_id</th>\n",
       "      <th>Age</th>\n",
       "      <th>Gender</th>\n",
       "      <th>Grade</th>\n",
       "      <th>Employed</th>\n",
       "    </tr>\n",
       "  </thead>\n",
       "  <tbody>\n",
       "    <tr>\n",
       "      <th>0</th>\n",
       "      <td>1</td>\n",
       "      <td>19</td>\n",
       "      <td>Male</td>\n",
       "      <td>1st Class</td>\n",
       "      <td>yes</td>\n",
       "    </tr>\n",
       "    <tr>\n",
       "      <th>1</th>\n",
       "      <td>2</td>\n",
       "      <td>20</td>\n",
       "      <td>Female</td>\n",
       "      <td>2nd Class</td>\n",
       "      <td>no</td>\n",
       "    </tr>\n",
       "    <tr>\n",
       "      <th>2</th>\n",
       "      <td>3</td>\n",
       "      <td>18</td>\n",
       "      <td>Male</td>\n",
       "      <td>1st Class</td>\n",
       "      <td>no</td>\n",
       "    </tr>\n",
       "    <tr>\n",
       "      <th>3</th>\n",
       "      <td>4</td>\n",
       "      <td>21</td>\n",
       "      <td>Female</td>\n",
       "      <td>2nd Class</td>\n",
       "      <td>no</td>\n",
       "    </tr>\n",
       "    <tr>\n",
       "      <th>4</th>\n",
       "      <td>5</td>\n",
       "      <td>19</td>\n",
       "      <td>Male</td>\n",
       "      <td>1st Class</td>\n",
       "      <td>no</td>\n",
       "    </tr>\n",
       "    <tr>\n",
       "      <th>...</th>\n",
       "      <td>...</td>\n",
       "      <td>...</td>\n",
       "      <td>...</td>\n",
       "      <td>...</td>\n",
       "      <td>...</td>\n",
       "    </tr>\n",
       "    <tr>\n",
       "      <th>227</th>\n",
       "      <td>228</td>\n",
       "      <td>21</td>\n",
       "      <td>Female</td>\n",
       "      <td>1st Class</td>\n",
       "      <td>no</td>\n",
       "    </tr>\n",
       "    <tr>\n",
       "      <th>228</th>\n",
       "      <td>229</td>\n",
       "      <td>20</td>\n",
       "      <td>Male</td>\n",
       "      <td>2nd Class</td>\n",
       "      <td>no</td>\n",
       "    </tr>\n",
       "    <tr>\n",
       "      <th>229</th>\n",
       "      <td>230</td>\n",
       "      <td>20</td>\n",
       "      <td>Male</td>\n",
       "      <td>3rd Class</td>\n",
       "      <td>yes</td>\n",
       "    </tr>\n",
       "    <tr>\n",
       "      <th>230</th>\n",
       "      <td>231</td>\n",
       "      <td>19</td>\n",
       "      <td>Female</td>\n",
       "      <td>1st Class</td>\n",
       "      <td>yes</td>\n",
       "    </tr>\n",
       "    <tr>\n",
       "      <th>231</th>\n",
       "      <td>232</td>\n",
       "      <td>20</td>\n",
       "      <td>Male</td>\n",
       "      <td>3rd Class</td>\n",
       "      <td>yes</td>\n",
       "    </tr>\n",
       "  </tbody>\n",
       "</table>\n",
       "<p>232 rows × 5 columns</p>\n",
       "</div>"
      ],
      "text/plain": [
       "     Student_id  Age  Gender      Grade Employed\n",
       "0             1   19    Male  1st Class      yes\n",
       "1             2   20  Female  2nd Class       no\n",
       "2             3   18    Male  1st Class       no\n",
       "3             4   21  Female  2nd Class       no\n",
       "4             5   19    Male  1st Class       no\n",
       "..          ...  ...     ...        ...      ...\n",
       "227         228   21  Female  1st Class       no\n",
       "228         229   20    Male  2nd Class       no\n",
       "229         230   20    Male  3rd Class      yes\n",
       "230         231   19  Female  1st Class      yes\n",
       "231         232   20    Male  3rd Class      yes\n",
       "\n",
       "[232 rows x 5 columns]"
      ]
     },
     "execution_count": 4,
     "metadata": {},
     "output_type": "execute_result"
    }
   ],
   "source": [
    "df"
   ]
  },
  {
   "cell_type": "code",
   "execution_count": 5,
   "id": "4c15ad2f-0314-442f-9021-23d1bcdd7238",
   "metadata": {},
   "outputs": [],
   "source": [
    "# Vælg kun kategoriske kolonner\n",
    "df_categorical = df.select_dtypes(exclude=[np.number])"
   ]
  },
  {
   "cell_type": "code",
   "execution_count": 6,
   "id": "07873f9b-ec97-491d-a7f2-f492ef6531ba",
   "metadata": {},
   "outputs": [
    {
     "data": {
      "text/html": [
       "<div>\n",
       "<style scoped>\n",
       "    .dataframe tbody tr th:only-of-type {\n",
       "        vertical-align: middle;\n",
       "    }\n",
       "\n",
       "    .dataframe tbody tr th {\n",
       "        vertical-align: top;\n",
       "    }\n",
       "\n",
       "    .dataframe thead th {\n",
       "        text-align: right;\n",
       "    }\n",
       "</style>\n",
       "<table border=\"1\" class=\"dataframe\">\n",
       "  <thead>\n",
       "    <tr style=\"text-align: right;\">\n",
       "      <th></th>\n",
       "      <th>Gender</th>\n",
       "      <th>Grade</th>\n",
       "      <th>Employed</th>\n",
       "    </tr>\n",
       "  </thead>\n",
       "  <tbody>\n",
       "    <tr>\n",
       "      <th>0</th>\n",
       "      <td>Male</td>\n",
       "      <td>1st Class</td>\n",
       "      <td>yes</td>\n",
       "    </tr>\n",
       "    <tr>\n",
       "      <th>1</th>\n",
       "      <td>Female</td>\n",
       "      <td>2nd Class</td>\n",
       "      <td>no</td>\n",
       "    </tr>\n",
       "    <tr>\n",
       "      <th>2</th>\n",
       "      <td>Male</td>\n",
       "      <td>1st Class</td>\n",
       "      <td>no</td>\n",
       "    </tr>\n",
       "    <tr>\n",
       "      <th>3</th>\n",
       "      <td>Female</td>\n",
       "      <td>2nd Class</td>\n",
       "      <td>no</td>\n",
       "    </tr>\n",
       "    <tr>\n",
       "      <th>4</th>\n",
       "      <td>Male</td>\n",
       "      <td>1st Class</td>\n",
       "      <td>no</td>\n",
       "    </tr>\n",
       "    <tr>\n",
       "      <th>...</th>\n",
       "      <td>...</td>\n",
       "      <td>...</td>\n",
       "      <td>...</td>\n",
       "    </tr>\n",
       "    <tr>\n",
       "      <th>227</th>\n",
       "      <td>Female</td>\n",
       "      <td>1st Class</td>\n",
       "      <td>no</td>\n",
       "    </tr>\n",
       "    <tr>\n",
       "      <th>228</th>\n",
       "      <td>Male</td>\n",
       "      <td>2nd Class</td>\n",
       "      <td>no</td>\n",
       "    </tr>\n",
       "    <tr>\n",
       "      <th>229</th>\n",
       "      <td>Male</td>\n",
       "      <td>3rd Class</td>\n",
       "      <td>yes</td>\n",
       "    </tr>\n",
       "    <tr>\n",
       "      <th>230</th>\n",
       "      <td>Female</td>\n",
       "      <td>1st Class</td>\n",
       "      <td>yes</td>\n",
       "    </tr>\n",
       "    <tr>\n",
       "      <th>231</th>\n",
       "      <td>Male</td>\n",
       "      <td>3rd Class</td>\n",
       "      <td>yes</td>\n",
       "    </tr>\n",
       "  </tbody>\n",
       "</table>\n",
       "<p>232 rows × 3 columns</p>\n",
       "</div>"
      ],
      "text/plain": [
       "     Gender      Grade Employed\n",
       "0      Male  1st Class      yes\n",
       "1    Female  2nd Class       no\n",
       "2      Male  1st Class       no\n",
       "3    Female  2nd Class       no\n",
       "4      Male  1st Class       no\n",
       "..      ...        ...      ...\n",
       "227  Female  1st Class       no\n",
       "228    Male  2nd Class       no\n",
       "229    Male  3rd Class      yes\n",
       "230  Female  1st Class      yes\n",
       "231    Male  3rd Class      yes\n",
       "\n",
       "[232 rows x 3 columns]"
      ]
     },
     "execution_count": 6,
     "metadata": {},
     "output_type": "execute_result"
    }
   ],
   "source": [
    "df_categorical"
   ]
  },
  {
   "cell_type": "code",
   "execution_count": 7,
   "id": "5a02268d-22e6-456b-83f1-e4b7ae248b28",
   "metadata": {},
   "outputs": [
    {
     "data": {
      "text/plain": [
       "array(['1st Class', '2nd Class', '3rd Class'], dtype=object)"
      ]
     },
     "execution_count": 7,
     "metadata": {},
     "output_type": "execute_result"
    }
   ],
   "source": [
    "# Find unikke værdier i 'Grade'-kolonnen\n",
    "df_categorical['Grade'].unique()\n"
   ]
  },
  {
   "cell_type": "code",
   "execution_count": 8,
   "id": "67f0b5a5-a717-42c1-85a6-88acff26fd96",
   "metadata": {},
   "outputs": [
    {
     "data": {
      "text/plain": [
       "Grade\n",
       "2nd Class    80\n",
       "3rd Class    80\n",
       "1st Class    72\n",
       "Name: count, dtype: int64"
      ]
     },
     "execution_count": 8,
     "metadata": {},
     "output_type": "execute_result"
    }
   ],
   "source": [
    "# Frekvensfordeling af 'Grade'\n",
    "df_categorical.Grade.value_counts()"
   ]
  },
  {
   "cell_type": "code",
   "execution_count": 9,
   "id": "9d098a05-5b69-423a-a5fd-d3918d34cd97",
   "metadata": {},
   "outputs": [
    {
     "data": {
      "text/plain": [
       "Gender\n",
       "Male      136\n",
       "Female     96\n",
       "Name: count, dtype: int64"
      ]
     },
     "execution_count": 9,
     "metadata": {},
     "output_type": "execute_result"
    }
   ],
   "source": [
    "# Frekvensfordeling af 'Gender'\n",
    "df_categorical.Gender.value_counts()"
   ]
  },
  {
   "cell_type": "code",
   "execution_count": 10,
   "id": "ca13f627-6227-4810-998b-508ce25b5a45",
   "metadata": {},
   "outputs": [
    {
     "data": {
      "text/plain": [
       "Employed\n",
       "no     133\n",
       "yes     99\n",
       "Name: count, dtype: int64"
      ]
     },
     "execution_count": 10,
     "metadata": {},
     "output_type": "execute_result"
    }
   ],
   "source": [
    "# Frekvensfordeling af 'Employed'\n",
    "df_categorical.Employed.value_counts()"
   ]
  },
  {
   "cell_type": "code",
   "execution_count": 11,
   "id": "72b85e63-b352-441e-a33f-eac5e5682730",
   "metadata": {},
   "outputs": [
    {
     "name": "stderr",
     "output_type": "stream",
     "text": [
      "C:\\Users\\moham\\AppData\\Local\\Temp\\ipykernel_14540\\2887142481.py:2: FutureWarning: A value is trying to be set on a copy of a DataFrame or Series through chained assignment using an inplace method.\n",
      "The behavior will change in pandas 3.0. This inplace method will never work because the intermediate object on which we are setting values always behaves as a copy.\n",
      "\n",
      "For example, when doing 'df[col].method(value, inplace=True)', try using 'df.method({col: value}, inplace=True)' or df[col] = df[col].method(value) instead, to perform the operation inplace on the original object.\n",
      "\n",
      "\n",
      "  df_categorical.Grade.replace({\"1st Class\": 1, \"2nd Class\": 2, \"3rd Class\": 3}, inplace=True)\n",
      "C:\\Users\\moham\\AppData\\Local\\Temp\\ipykernel_14540\\2887142481.py:2: FutureWarning: Downcasting behavior in `replace` is deprecated and will be removed in a future version. To retain the old behavior, explicitly call `result.infer_objects(copy=False)`. To opt-in to the future behavior, set `pd.set_option('future.no_silent_downcasting', True)`\n",
      "  df_categorical.Grade.replace({\"1st Class\": 1, \"2nd Class\": 2, \"3rd Class\": 3}, inplace=True)\n",
      "C:\\Users\\moham\\AppData\\Local\\Temp\\ipykernel_14540\\2887142481.py:3: FutureWarning: A value is trying to be set on a copy of a DataFrame or Series through chained assignment using an inplace method.\n",
      "The behavior will change in pandas 3.0. This inplace method will never work because the intermediate object on which we are setting values always behaves as a copy.\n",
      "\n",
      "For example, when doing 'df[col].method(value, inplace=True)', try using 'df.method({col: value}, inplace=True)' or df[col] = df[col].method(value) instead, to perform the operation inplace on the original object.\n",
      "\n",
      "\n",
      "  df_categorical.Gender.replace({\"Male\": 0, \"Female\": 1}, inplace=True)\n",
      "C:\\Users\\moham\\AppData\\Local\\Temp\\ipykernel_14540\\2887142481.py:3: FutureWarning: Downcasting behavior in `replace` is deprecated and will be removed in a future version. To retain the old behavior, explicitly call `result.infer_objects(copy=False)`. To opt-in to the future behavior, set `pd.set_option('future.no_silent_downcasting', True)`\n",
      "  df_categorical.Gender.replace({\"Male\": 0, \"Female\": 1}, inplace=True)\n",
      "C:\\Users\\moham\\AppData\\Local\\Temp\\ipykernel_14540\\2887142481.py:4: FutureWarning: A value is trying to be set on a copy of a DataFrame or Series through chained assignment using an inplace method.\n",
      "The behavior will change in pandas 3.0. This inplace method will never work because the intermediate object on which we are setting values always behaves as a copy.\n",
      "\n",
      "For example, when doing 'df[col].method(value, inplace=True)', try using 'df.method({col: value}, inplace=True)' or df[col] = df[col].method(value) instead, to perform the operation inplace on the original object.\n",
      "\n",
      "\n",
      "  df_categorical.Employed.replace({\"yes\": 1, \"no\": 0}, inplace=True)\n",
      "C:\\Users\\moham\\AppData\\Local\\Temp\\ipykernel_14540\\2887142481.py:4: FutureWarning: Downcasting behavior in `replace` is deprecated and will be removed in a future version. To retain the old behavior, explicitly call `result.infer_objects(copy=False)`. To opt-in to the future behavior, set `pd.set_option('future.no_silent_downcasting', True)`\n",
      "  df_categorical.Employed.replace({\"yes\": 1, \"no\": 0}, inplace=True)\n"
     ]
    }
   ],
   "source": [
    "# Erstat kategoriske værdier med numeriske ækvivalenter\n",
    "df_categorical.Grade.replace({\"1st Class\": 1, \"2nd Class\": 2, \"3rd Class\": 3}, inplace=True)\n",
    "df_categorical.Gender.replace({\"Male\": 0, \"Female\": 1}, inplace=True)\n",
    "df_categorical.Employed.replace({\"yes\": 1, \"no\": 0}, inplace=True)"
   ]
  },
  {
   "cell_type": "code",
   "execution_count": 12,
   "id": "ddc23fdc-545d-45d4-9f25-2b6148117b70",
   "metadata": {},
   "outputs": [
    {
     "data": {
      "text/html": [
       "<div>\n",
       "<style scoped>\n",
       "    .dataframe tbody tr th:only-of-type {\n",
       "        vertical-align: middle;\n",
       "    }\n",
       "\n",
       "    .dataframe tbody tr th {\n",
       "        vertical-align: top;\n",
       "    }\n",
       "\n",
       "    .dataframe thead th {\n",
       "        text-align: right;\n",
       "    }\n",
       "</style>\n",
       "<table border=\"1\" class=\"dataframe\">\n",
       "  <thead>\n",
       "    <tr style=\"text-align: right;\">\n",
       "      <th></th>\n",
       "      <th>Gender</th>\n",
       "      <th>Grade</th>\n",
       "      <th>Employed</th>\n",
       "    </tr>\n",
       "  </thead>\n",
       "  <tbody>\n",
       "    <tr>\n",
       "      <th>0</th>\n",
       "      <td>0</td>\n",
       "      <td>1</td>\n",
       "      <td>1</td>\n",
       "    </tr>\n",
       "    <tr>\n",
       "      <th>1</th>\n",
       "      <td>1</td>\n",
       "      <td>2</td>\n",
       "      <td>0</td>\n",
       "    </tr>\n",
       "    <tr>\n",
       "      <th>2</th>\n",
       "      <td>0</td>\n",
       "      <td>1</td>\n",
       "      <td>0</td>\n",
       "    </tr>\n",
       "    <tr>\n",
       "      <th>3</th>\n",
       "      <td>1</td>\n",
       "      <td>2</td>\n",
       "      <td>0</td>\n",
       "    </tr>\n",
       "    <tr>\n",
       "      <th>4</th>\n",
       "      <td>0</td>\n",
       "      <td>1</td>\n",
       "      <td>0</td>\n",
       "    </tr>\n",
       "  </tbody>\n",
       "</table>\n",
       "</div>"
      ],
      "text/plain": [
       "   Gender  Grade  Employed\n",
       "0       0      1         1\n",
       "1       1      2         0\n",
       "2       0      1         0\n",
       "3       1      2         0\n",
       "4       0      1         0"
      ]
     },
     "execution_count": 12,
     "metadata": {},
     "output_type": "execute_result"
    }
   ],
   "source": [
    "# Vis den modificerede dataframe\n",
    "df_categorical.head()"
   ]
  },
  {
   "cell_type": "code",
   "execution_count": 13,
   "id": "d369d2e7-8837-41ae-8b47-9e6334986b7e",
   "metadata": {},
   "outputs": [],
   "source": [
    "# Indlæs Banking Marketing-datasættet\n",
    "dataset = 'https://raw.githubusercontent.com/TrainingByPackt/Data-Science-with-Python/master/Chapter01/Data/Banking_Marketing.csv'\n",
    "df = pd.read_csv(dataset, header=0)\n",
    "\n"
   ]
  },
  {
   "cell_type": "code",
   "execution_count": 14,
   "id": "f4b1f98a-82ad-4491-8c52-6e08f399e7a6",
   "metadata": {},
   "outputs": [],
   "source": [
    "\n",
    "# Fjern manglende data\n",
    "df = df.dropna()"
   ]
  },
  {
   "cell_type": "code",
   "execution_count": 15,
   "id": "1e655a1b-e732-46ac-86f0-66e58a9c499b",
   "metadata": {},
   "outputs": [
    {
     "data": {
      "text/html": [
       "<div>\n",
       "<style scoped>\n",
       "    .dataframe tbody tr th:only-of-type {\n",
       "        vertical-align: middle;\n",
       "    }\n",
       "\n",
       "    .dataframe tbody tr th {\n",
       "        vertical-align: top;\n",
       "    }\n",
       "\n",
       "    .dataframe thead th {\n",
       "        text-align: right;\n",
       "    }\n",
       "</style>\n",
       "<table border=\"1\" class=\"dataframe\">\n",
       "  <thead>\n",
       "    <tr style=\"text-align: right;\">\n",
       "      <th></th>\n",
       "      <th>job</th>\n",
       "      <th>marital</th>\n",
       "      <th>education</th>\n",
       "      <th>default</th>\n",
       "      <th>housing</th>\n",
       "      <th>loan</th>\n",
       "      <th>contact</th>\n",
       "      <th>month</th>\n",
       "      <th>day_of_week</th>\n",
       "      <th>poutcome</th>\n",
       "    </tr>\n",
       "  </thead>\n",
       "  <tbody>\n",
       "    <tr>\n",
       "      <th>0</th>\n",
       "      <td>blue-collar</td>\n",
       "      <td>married</td>\n",
       "      <td>basic.4y</td>\n",
       "      <td>unknown</td>\n",
       "      <td>yes</td>\n",
       "      <td>no</td>\n",
       "      <td>cellular</td>\n",
       "      <td>aug</td>\n",
       "      <td>thu</td>\n",
       "      <td>nonexistent</td>\n",
       "    </tr>\n",
       "    <tr>\n",
       "      <th>1</th>\n",
       "      <td>technician</td>\n",
       "      <td>married</td>\n",
       "      <td>unknown</td>\n",
       "      <td>no</td>\n",
       "      <td>no</td>\n",
       "      <td>no</td>\n",
       "      <td>cellular</td>\n",
       "      <td>nov</td>\n",
       "      <td>fri</td>\n",
       "      <td>nonexistent</td>\n",
       "    </tr>\n",
       "    <tr>\n",
       "      <th>2</th>\n",
       "      <td>management</td>\n",
       "      <td>single</td>\n",
       "      <td>university.degree</td>\n",
       "      <td>no</td>\n",
       "      <td>yes</td>\n",
       "      <td>no</td>\n",
       "      <td>cellular</td>\n",
       "      <td>jun</td>\n",
       "      <td>thu</td>\n",
       "      <td>success</td>\n",
       "    </tr>\n",
       "    <tr>\n",
       "      <th>3</th>\n",
       "      <td>services</td>\n",
       "      <td>married</td>\n",
       "      <td>high.school</td>\n",
       "      <td>no</td>\n",
       "      <td>no</td>\n",
       "      <td>no</td>\n",
       "      <td>cellular</td>\n",
       "      <td>apr</td>\n",
       "      <td>fri</td>\n",
       "      <td>nonexistent</td>\n",
       "    </tr>\n",
       "    <tr>\n",
       "      <th>4</th>\n",
       "      <td>retired</td>\n",
       "      <td>married</td>\n",
       "      <td>basic.4y</td>\n",
       "      <td>no</td>\n",
       "      <td>yes</td>\n",
       "      <td>no</td>\n",
       "      <td>cellular</td>\n",
       "      <td>aug</td>\n",
       "      <td>fri</td>\n",
       "      <td>success</td>\n",
       "    </tr>\n",
       "  </tbody>\n",
       "</table>\n",
       "</div>"
      ],
      "text/plain": [
       "           job  marital          education  default housing loan   contact  \\\n",
       "0  blue-collar  married           basic.4y  unknown     yes   no  cellular   \n",
       "1   technician  married            unknown       no      no   no  cellular   \n",
       "2   management   single  university.degree       no     yes   no  cellular   \n",
       "3     services  married        high.school       no      no   no  cellular   \n",
       "4      retired  married           basic.4y       no     yes   no  cellular   \n",
       "\n",
       "  month day_of_week     poutcome  \n",
       "0   aug         thu  nonexistent  \n",
       "1   nov         fri  nonexistent  \n",
       "2   jun         thu      success  \n",
       "3   apr         fri  nonexistent  \n",
       "4   aug         fri      success  "
      ]
     },
     "execution_count": 15,
     "metadata": {},
     "output_type": "execute_result"
    }
   ],
   "source": [
    "# Vælg ikke-numeriske kolonner\n",
    "data_column_category = df.select_dtypes(exclude=[np.number]).columns\n",
    "df[data_column_category].head()\n"
   ]
  },
  {
   "cell_type": "code",
   "execution_count": 16,
   "id": "0aa639e2-b5b8-4de3-b2fd-ec210b895ea7",
   "metadata": {},
   "outputs": [
    {
     "data": {
      "text/html": [
       "<div>\n",
       "<style scoped>\n",
       "    .dataframe tbody tr th:only-of-type {\n",
       "        vertical-align: middle;\n",
       "    }\n",
       "\n",
       "    .dataframe tbody tr th {\n",
       "        vertical-align: top;\n",
       "    }\n",
       "\n",
       "    .dataframe thead th {\n",
       "        text-align: right;\n",
       "    }\n",
       "</style>\n",
       "<table border=\"1\" class=\"dataframe\">\n",
       "  <thead>\n",
       "    <tr style=\"text-align: right;\">\n",
       "      <th></th>\n",
       "      <th>age</th>\n",
       "      <th>job</th>\n",
       "      <th>marital</th>\n",
       "      <th>education</th>\n",
       "      <th>default</th>\n",
       "      <th>housing</th>\n",
       "      <th>loan</th>\n",
       "      <th>contact</th>\n",
       "      <th>month</th>\n",
       "      <th>day_of_week</th>\n",
       "      <th>...</th>\n",
       "      <th>campaign</th>\n",
       "      <th>pdays</th>\n",
       "      <th>previous</th>\n",
       "      <th>poutcome</th>\n",
       "      <th>emp_var_rate</th>\n",
       "      <th>cons_price_idx</th>\n",
       "      <th>cons_conf_idx</th>\n",
       "      <th>euribor3m</th>\n",
       "      <th>nr_employed</th>\n",
       "      <th>y</th>\n",
       "    </tr>\n",
       "  </thead>\n",
       "  <tbody>\n",
       "    <tr>\n",
       "      <th>0</th>\n",
       "      <td>44.0</td>\n",
       "      <td>1</td>\n",
       "      <td>1</td>\n",
       "      <td>0</td>\n",
       "      <td>1</td>\n",
       "      <td>2</td>\n",
       "      <td>0</td>\n",
       "      <td>0</td>\n",
       "      <td>1</td>\n",
       "      <td>2</td>\n",
       "      <td>...</td>\n",
       "      <td>1</td>\n",
       "      <td>999</td>\n",
       "      <td>0</td>\n",
       "      <td>1</td>\n",
       "      <td>1.4</td>\n",
       "      <td>93.444</td>\n",
       "      <td>-36.1</td>\n",
       "      <td>4.963</td>\n",
       "      <td>5228.1</td>\n",
       "      <td>0</td>\n",
       "    </tr>\n",
       "    <tr>\n",
       "      <th>1</th>\n",
       "      <td>53.0</td>\n",
       "      <td>9</td>\n",
       "      <td>1</td>\n",
       "      <td>7</td>\n",
       "      <td>0</td>\n",
       "      <td>0</td>\n",
       "      <td>0</td>\n",
       "      <td>0</td>\n",
       "      <td>7</td>\n",
       "      <td>0</td>\n",
       "      <td>...</td>\n",
       "      <td>1</td>\n",
       "      <td>999</td>\n",
       "      <td>0</td>\n",
       "      <td>1</td>\n",
       "      <td>-0.1</td>\n",
       "      <td>93.200</td>\n",
       "      <td>-42.0</td>\n",
       "      <td>4.021</td>\n",
       "      <td>5195.8</td>\n",
       "      <td>0</td>\n",
       "    </tr>\n",
       "    <tr>\n",
       "      <th>2</th>\n",
       "      <td>28.0</td>\n",
       "      <td>4</td>\n",
       "      <td>2</td>\n",
       "      <td>6</td>\n",
       "      <td>0</td>\n",
       "      <td>2</td>\n",
       "      <td>0</td>\n",
       "      <td>0</td>\n",
       "      <td>4</td>\n",
       "      <td>2</td>\n",
       "      <td>...</td>\n",
       "      <td>3</td>\n",
       "      <td>6</td>\n",
       "      <td>2</td>\n",
       "      <td>2</td>\n",
       "      <td>-1.7</td>\n",
       "      <td>94.055</td>\n",
       "      <td>-39.8</td>\n",
       "      <td>0.729</td>\n",
       "      <td>4991.6</td>\n",
       "      <td>1</td>\n",
       "    </tr>\n",
       "    <tr>\n",
       "      <th>3</th>\n",
       "      <td>39.0</td>\n",
       "      <td>7</td>\n",
       "      <td>1</td>\n",
       "      <td>3</td>\n",
       "      <td>0</td>\n",
       "      <td>0</td>\n",
       "      <td>0</td>\n",
       "      <td>0</td>\n",
       "      <td>0</td>\n",
       "      <td>0</td>\n",
       "      <td>...</td>\n",
       "      <td>2</td>\n",
       "      <td>999</td>\n",
       "      <td>0</td>\n",
       "      <td>1</td>\n",
       "      <td>-1.8</td>\n",
       "      <td>93.075</td>\n",
       "      <td>-47.1</td>\n",
       "      <td>1.405</td>\n",
       "      <td>5099.1</td>\n",
       "      <td>0</td>\n",
       "    </tr>\n",
       "    <tr>\n",
       "      <th>4</th>\n",
       "      <td>55.0</td>\n",
       "      <td>5</td>\n",
       "      <td>1</td>\n",
       "      <td>0</td>\n",
       "      <td>0</td>\n",
       "      <td>2</td>\n",
       "      <td>0</td>\n",
       "      <td>0</td>\n",
       "      <td>1</td>\n",
       "      <td>0</td>\n",
       "      <td>...</td>\n",
       "      <td>1</td>\n",
       "      <td>3</td>\n",
       "      <td>1</td>\n",
       "      <td>2</td>\n",
       "      <td>-2.9</td>\n",
       "      <td>92.201</td>\n",
       "      <td>-31.4</td>\n",
       "      <td>0.869</td>\n",
       "      <td>5076.2</td>\n",
       "      <td>1</td>\n",
       "    </tr>\n",
       "  </tbody>\n",
       "</table>\n",
       "<p>5 rows × 21 columns</p>\n",
       "</div>"
      ],
      "text/plain": [
       "    age  job  marital  education  default  housing  loan  contact  month  \\\n",
       "0  44.0    1        1          0        1        2     0        0      1   \n",
       "1  53.0    9        1          7        0        0     0        0      7   \n",
       "2  28.0    4        2          6        0        2     0        0      4   \n",
       "3  39.0    7        1          3        0        0     0        0      0   \n",
       "4  55.0    5        1          0        0        2     0        0      1   \n",
       "\n",
       "   day_of_week  ...  campaign  pdays  previous  poutcome  emp_var_rate  \\\n",
       "0            2  ...         1    999         0         1           1.4   \n",
       "1            0  ...         1    999         0         1          -0.1   \n",
       "2            2  ...         3      6         2         2          -1.7   \n",
       "3            0  ...         2    999         0         1          -1.8   \n",
       "4            0  ...         1      3         1         2          -2.9   \n",
       "\n",
       "   cons_price_idx  cons_conf_idx  euribor3m  nr_employed  y  \n",
       "0          93.444          -36.1      4.963       5228.1  0  \n",
       "1          93.200          -42.0      4.021       5195.8  0  \n",
       "2          94.055          -39.8      0.729       4991.6  1  \n",
       "3          93.075          -47.1      1.405       5099.1  0  \n",
       "4          92.201          -31.4      0.869       5076.2  1  \n",
       "\n",
       "[5 rows x 21 columns]"
      ]
     },
     "execution_count": 16,
     "metadata": {},
     "output_type": "execute_result"
    }
   ],
   "source": [
    "from sklearn.preprocessing import LabelEncoder\n",
    "\n",
    "# Initialiser LabelEncoder\n",
    "label_encoder = LabelEncoder()\n",
    "\n",
    "# Anvend Label Encoding på kategoriske kolonner\n",
    "for col in data_column_category:\n",
    "    df[col] = label_encoder.fit_transform(df[col])\n",
    "\n",
    "# Vis dataframen med label-enkodede værdier\n",
    "df.head()\n"
   ]
  },
  {
   "cell_type": "code",
   "execution_count": 17,
   "id": "95002a6e-f88b-42a1-a747-becbfe6f12c4",
   "metadata": {},
   "outputs": [
    {
     "data": {
      "text/html": [
       "<div>\n",
       "<style scoped>\n",
       "    .dataframe tbody tr th:only-of-type {\n",
       "        vertical-align: middle;\n",
       "    }\n",
       "\n",
       "    .dataframe tbody tr th {\n",
       "        vertical-align: top;\n",
       "    }\n",
       "\n",
       "    .dataframe thead th {\n",
       "        text-align: right;\n",
       "    }\n",
       "</style>\n",
       "<table border=\"1\" class=\"dataframe\">\n",
       "  <thead>\n",
       "    <tr style=\"text-align: right;\">\n",
       "      <th></th>\n",
       "      <th>age</th>\n",
       "      <th>job</th>\n",
       "      <th>marital</th>\n",
       "      <th>education</th>\n",
       "      <th>default</th>\n",
       "      <th>housing</th>\n",
       "      <th>loan</th>\n",
       "      <th>contact</th>\n",
       "      <th>month</th>\n",
       "      <th>day_of_week</th>\n",
       "      <th>...</th>\n",
       "      <th>campaign</th>\n",
       "      <th>pdays</th>\n",
       "      <th>previous</th>\n",
       "      <th>poutcome</th>\n",
       "      <th>emp_var_rate</th>\n",
       "      <th>cons_price_idx</th>\n",
       "      <th>cons_conf_idx</th>\n",
       "      <th>euribor3m</th>\n",
       "      <th>nr_employed</th>\n",
       "      <th>y</th>\n",
       "    </tr>\n",
       "  </thead>\n",
       "  <tbody>\n",
       "    <tr>\n",
       "      <th>0</th>\n",
       "      <td>44.0</td>\n",
       "      <td>1</td>\n",
       "      <td>1</td>\n",
       "      <td>0</td>\n",
       "      <td>1</td>\n",
       "      <td>2</td>\n",
       "      <td>0</td>\n",
       "      <td>0</td>\n",
       "      <td>1</td>\n",
       "      <td>2</td>\n",
       "      <td>...</td>\n",
       "      <td>1</td>\n",
       "      <td>999</td>\n",
       "      <td>0</td>\n",
       "      <td>1</td>\n",
       "      <td>1.4</td>\n",
       "      <td>93.444</td>\n",
       "      <td>-36.1</td>\n",
       "      <td>4.963</td>\n",
       "      <td>5228.1</td>\n",
       "      <td>0</td>\n",
       "    </tr>\n",
       "    <tr>\n",
       "      <th>1</th>\n",
       "      <td>53.0</td>\n",
       "      <td>9</td>\n",
       "      <td>1</td>\n",
       "      <td>7</td>\n",
       "      <td>0</td>\n",
       "      <td>0</td>\n",
       "      <td>0</td>\n",
       "      <td>0</td>\n",
       "      <td>7</td>\n",
       "      <td>0</td>\n",
       "      <td>...</td>\n",
       "      <td>1</td>\n",
       "      <td>999</td>\n",
       "      <td>0</td>\n",
       "      <td>1</td>\n",
       "      <td>-0.1</td>\n",
       "      <td>93.200</td>\n",
       "      <td>-42.0</td>\n",
       "      <td>4.021</td>\n",
       "      <td>5195.8</td>\n",
       "      <td>0</td>\n",
       "    </tr>\n",
       "    <tr>\n",
       "      <th>2</th>\n",
       "      <td>28.0</td>\n",
       "      <td>4</td>\n",
       "      <td>2</td>\n",
       "      <td>6</td>\n",
       "      <td>0</td>\n",
       "      <td>2</td>\n",
       "      <td>0</td>\n",
       "      <td>0</td>\n",
       "      <td>4</td>\n",
       "      <td>2</td>\n",
       "      <td>...</td>\n",
       "      <td>3</td>\n",
       "      <td>6</td>\n",
       "      <td>2</td>\n",
       "      <td>2</td>\n",
       "      <td>-1.7</td>\n",
       "      <td>94.055</td>\n",
       "      <td>-39.8</td>\n",
       "      <td>0.729</td>\n",
       "      <td>4991.6</td>\n",
       "      <td>1</td>\n",
       "    </tr>\n",
       "    <tr>\n",
       "      <th>3</th>\n",
       "      <td>39.0</td>\n",
       "      <td>7</td>\n",
       "      <td>1</td>\n",
       "      <td>3</td>\n",
       "      <td>0</td>\n",
       "      <td>0</td>\n",
       "      <td>0</td>\n",
       "      <td>0</td>\n",
       "      <td>0</td>\n",
       "      <td>0</td>\n",
       "      <td>...</td>\n",
       "      <td>2</td>\n",
       "      <td>999</td>\n",
       "      <td>0</td>\n",
       "      <td>1</td>\n",
       "      <td>-1.8</td>\n",
       "      <td>93.075</td>\n",
       "      <td>-47.1</td>\n",
       "      <td>1.405</td>\n",
       "      <td>5099.1</td>\n",
       "      <td>0</td>\n",
       "    </tr>\n",
       "    <tr>\n",
       "      <th>4</th>\n",
       "      <td>55.0</td>\n",
       "      <td>5</td>\n",
       "      <td>1</td>\n",
       "      <td>0</td>\n",
       "      <td>0</td>\n",
       "      <td>2</td>\n",
       "      <td>0</td>\n",
       "      <td>0</td>\n",
       "      <td>1</td>\n",
       "      <td>0</td>\n",
       "      <td>...</td>\n",
       "      <td>1</td>\n",
       "      <td>3</td>\n",
       "      <td>1</td>\n",
       "      <td>2</td>\n",
       "      <td>-2.9</td>\n",
       "      <td>92.201</td>\n",
       "      <td>-31.4</td>\n",
       "      <td>0.869</td>\n",
       "      <td>5076.2</td>\n",
       "      <td>1</td>\n",
       "    </tr>\n",
       "  </tbody>\n",
       "</table>\n",
       "<p>5 rows × 21 columns</p>\n",
       "</div>"
      ],
      "text/plain": [
       "    age  job  marital  education  default  housing  loan  contact  month  \\\n",
       "0  44.0    1        1          0        1        2     0        0      1   \n",
       "1  53.0    9        1          7        0        0     0        0      7   \n",
       "2  28.0    4        2          6        0        2     0        0      4   \n",
       "3  39.0    7        1          3        0        0     0        0      0   \n",
       "4  55.0    5        1          0        0        2     0        0      1   \n",
       "\n",
       "   day_of_week  ...  campaign  pdays  previous  poutcome  emp_var_rate  \\\n",
       "0            2  ...         1    999         0         1           1.4   \n",
       "1            0  ...         1    999         0         1          -0.1   \n",
       "2            2  ...         3      6         2         2          -1.7   \n",
       "3            0  ...         2    999         0         1          -1.8   \n",
       "4            0  ...         1      3         1         2          -2.9   \n",
       "\n",
       "   cons_price_idx  cons_conf_idx  euribor3m  nr_employed  y  \n",
       "0          93.444          -36.1      4.963       5228.1  0  \n",
       "1          93.200          -42.0      4.021       5195.8  0  \n",
       "2          94.055          -39.8      0.729       4991.6  1  \n",
       "3          93.075          -47.1      1.405       5099.1  0  \n",
       "4          92.201          -31.4      0.869       5076.2  1  \n",
       "\n",
       "[5 rows x 21 columns]"
      ]
     },
     "execution_count": 17,
     "metadata": {},
     "output_type": "execute_result"
    }
   ],
   "source": [
    "# Label Encoding af kategoriske kolonner før One-Hot Encoding\n",
    "for col in data_column_category:\n",
    "    df[col] = label_encoder.fit_transform(df[col])\n",
    "\n",
    "df.head()\n"
   ]
  },
  {
   "cell_type": "markdown",
   "id": "7df6aaf5-9d05-42c7-83d5-1ceab5ce764f",
   "metadata": {},
   "source": [
    "##  Load Data from Excel"
   ]
  },
  {
   "cell_type": "code",
   "execution_count": 18,
   "id": "d55c942d-7275-4959-ba5d-230f56c58d73",
   "metadata": {},
   "outputs": [],
   "source": [
    "file_path = r\"C:\\Users\\moham\\Downloads\\Sales Orders Data.xlsx\""
   ]
  },
  {
   "cell_type": "code",
   "execution_count": 19,
   "id": "8fe7a3e3-a9ac-4080-913e-1f46b11c2710",
   "metadata": {},
   "outputs": [],
   "source": [
    "# Load the Excel file\n",
    "data = pd.read_excel(file_path, sheet_name=0)"
   ]
  },
  {
   "cell_type": "markdown",
   "id": "c5597291-fda7-4d64-b640-b7a29c0cb127",
   "metadata": {},
   "source": [
    "## Explore the Data"
   ]
  },
  {
   "cell_type": "code",
   "execution_count": 20,
   "id": "3333f3c7-c0e2-475f-a902-f8af64b25e2e",
   "metadata": {},
   "outputs": [
    {
     "name": "stdout",
     "output_type": "stream",
     "text": [
      "First few rows of the data:\n",
      "   # SalesOrderID  RevisionNumber  OrderDate    DueDate   ShipDate  \\\n",
      "0           43659               1 2001-07-01 2001-07-13 2001-07-08   \n",
      "1           43660               1 2001-07-01 2001-07-13 2001-07-08   \n",
      "2           43661               1 2001-07-01 2001-07-13 2001-07-08   \n",
      "3           43662               1 2001-07-01 2001-07-13 2001-07-08   \n",
      "4           43663               1 2001-07-01 2001-07-13 2001-07-08   \n",
      "\n",
      "   OnlineOrderFlag  CustomerID  ContactID  SalesPersonID  TerritoryID  \\\n",
      "0                0         676        378          279.0            5   \n",
      "1                0         117        216          279.0            5   \n",
      "2                0         442        281          282.0            6   \n",
      "3                0         227        564          282.0            6   \n",
      "4                0         510         97          276.0            4   \n",
      "\n",
      "   BillToAddressID  ShipToAddressID  ShipMethodID  TotalDue, USD  \\\n",
      "0              985              985             5     27231.5495   \n",
      "1              921              921             5      1716.1794   \n",
      "2              517              517             5     43561.4424   \n",
      "3              482              482             5     38331.9613   \n",
      "4             1073             1073             5       556.2026   \n",
      "\n",
      "   salesreasonId  \n",
      "0            NaN  \n",
      "1            NaN  \n",
      "2            NaN  \n",
      "3            NaN  \n",
      "4            NaN  \n"
     ]
    }
   ],
   "source": [
    "# View the first few rows\n",
    "print(\"First few rows of the data:\")\n",
    "print(data.head())\n"
   ]
  },
  {
   "cell_type": "code",
   "execution_count": 21,
   "id": "b74e3c99-33f4-4ac6-a86b-3ed66f8fceed",
   "metadata": {},
   "outputs": [
    {
     "name": "stdout",
     "output_type": "stream",
     "text": [
      "\n",
      "Information about the data:\n",
      "<class 'pandas.core.frame.DataFrame'>\n",
      "RangeIndex: 31465 entries, 0 to 31464\n",
      "Data columns (total 15 columns):\n",
      " #   Column           Non-Null Count  Dtype         \n",
      "---  ------           --------------  -----         \n",
      " 0   # SalesOrderID   31465 non-null  int64         \n",
      " 1   RevisionNumber   31465 non-null  int64         \n",
      " 2   OrderDate        31465 non-null  datetime64[ns]\n",
      " 3   DueDate          31465 non-null  datetime64[ns]\n",
      " 4   ShipDate         31465 non-null  datetime64[ns]\n",
      " 5   OnlineOrderFlag  31465 non-null  int64         \n",
      " 6   CustomerID       31465 non-null  int64         \n",
      " 7   ContactID        31465 non-null  int64         \n",
      " 8   SalesPersonID    3806 non-null   float64       \n",
      " 9   TerritoryID      31465 non-null  int64         \n",
      " 10  BillToAddressID  31465 non-null  int64         \n",
      " 11  ShipToAddressID  31465 non-null  int64         \n",
      " 12  ShipMethodID     31465 non-null  int64         \n",
      " 13  TotalDue, USD    31465 non-null  float64       \n",
      " 14  salesreasonId    23012 non-null  float64       \n",
      "dtypes: datetime64[ns](3), float64(3), int64(9)\n",
      "memory usage: 3.6 MB\n",
      "None\n"
     ]
    }
   ],
   "source": [
    "# Check the structure and types of data\n",
    "\n",
    "print(\"\\nInformation about the data:\")\n",
    "print(data.info())\n"
   ]
  },
  {
   "cell_type": "code",
   "execution_count": 22,
   "id": "2e4f0fc3-945a-4105-8c77-a03517cf8244",
   "metadata": {},
   "outputs": [
    {
     "name": "stdout",
     "output_type": "stream",
     "text": [
      "       # SalesOrderID  RevisionNumber                      OrderDate  \\\n",
      "count    31465.000000    31465.000000                          31465   \n",
      "mean     59391.000000        1.000953  2003-09-22 11:43:49.321468416   \n",
      "min      43659.000000        1.000000            2001-07-01 00:00:00   \n",
      "25%      51525.000000        1.000000            2003-07-22 00:00:00   \n",
      "50%      59391.000000        1.000000            2003-12-05 00:00:00   \n",
      "75%      67257.000000        1.000000            2004-03-31 00:00:00   \n",
      "max      75123.000000        2.000000            2004-07-31 00:00:00   \n",
      "std       9083.307446        0.030864                            NaN   \n",
      "\n",
      "                             DueDate                       ShipDate  \\\n",
      "count                          31465                          31465   \n",
      "mean   2003-10-04 11:44:14.034641664  2003-09-29 11:44:14.034641792   \n",
      "min              2001-07-13 00:00:00            2001-07-08 00:00:00   \n",
      "25%              2003-08-03 00:00:00            2003-07-29 00:00:00   \n",
      "50%              2003-12-17 00:00:00            2003-12-12 00:00:00   \n",
      "75%              2004-04-13 00:00:00            2004-04-08 00:00:00   \n",
      "max              2004-08-12 00:00:00            2004-08-07 00:00:00   \n",
      "std                              NaN                            NaN   \n",
      "\n",
      "       OnlineOrderFlag    CustomerID     ContactID  SalesPersonID  \\\n",
      "count     31465.000000  31465.000000  31465.000000    3806.000000   \n",
      "mean          0.879040  16608.138281   9503.669283     280.223594   \n",
      "min           0.000000      1.000000      1.000000     268.000000   \n",
      "25%           1.000000  12484.000000   4179.000000     277.000000   \n",
      "50%           1.000000  16785.000000   9538.000000     279.000000   \n",
      "75%           1.000000  22726.000000  14773.000000     284.000000   \n",
      "max           1.000000  29483.000000  19977.000000     290.000000   \n",
      "std           0.326086   7927.895695   6065.979301       4.534775   \n",
      "\n",
      "        TerritoryID  BillToAddressID  ShipToAddressID  ShipMethodID  \\\n",
      "count  31465.000000     31465.000000     31465.000000  31465.000000   \n",
      "mean       6.090768     18263.154426     18249.192563      1.483839   \n",
      "min        1.000000       405.000000         9.000000      1.000000   \n",
      "25%        4.000000     14080.000000     14063.000000      1.000000   \n",
      "50%        6.000000     19449.000000     19438.000000      1.000000   \n",
      "75%        9.000000     24678.000000     24672.000000      1.000000   \n",
      "max       10.000000     29883.000000     29883.000000      5.000000   \n",
      "std        2.958119      8210.069158      8218.429263      1.304343   \n",
      "\n",
      "       TotalDue, USD  salesreasonId  \n",
      "count   31465.000000   23012.000000  \n",
      "mean     4471.876206       2.615592  \n",
      "min         1.518300       1.000000  \n",
      "25%        62.951900       1.000000  \n",
      "50%       865.204000       1.000000  \n",
      "75%      2618.816900       2.000000  \n",
      "max    247913.913800      10.000000  \n",
      "std     14987.310857       2.913761  \n"
     ]
    }
   ],
   "source": [
    "# Summary statistics\n",
    "print(data.describe())"
   ]
  },
  {
   "cell_type": "code",
   "execution_count": 23,
   "id": "b92b343c-9a04-4df4-bc4c-44dba54ced6d",
   "metadata": {},
   "outputs": [
    {
     "name": "stdout",
     "output_type": "stream",
     "text": [
      "\n",
      "Missing Values:\n",
      "# SalesOrderID         0\n",
      "RevisionNumber         0\n",
      "OrderDate              0\n",
      "DueDate                0\n",
      "ShipDate               0\n",
      "OnlineOrderFlag        0\n",
      "CustomerID             0\n",
      "ContactID              0\n",
      "SalesPersonID      27659\n",
      "TerritoryID            0\n",
      "BillToAddressID        0\n",
      "ShipToAddressID        0\n",
      "ShipMethodID           0\n",
      "TotalDue, USD          0\n",
      "salesreasonId       8453\n",
      "dtype: int64\n"
     ]
    }
   ],
   "source": [
    "print(\"\\nMissing Values:\")\n",
    "print(data.isnull().sum())"
   ]
  },
  {
   "cell_type": "markdown",
   "id": "7fb13056-8ae9-42cb-8dba-8d880dca229b",
   "metadata": {},
   "source": [
    "## Clean the Data"
   ]
  },
  {
   "cell_type": "code",
   "execution_count": 24,
   "id": "c8406168-812a-43c7-8b20-735a560bfd1f",
   "metadata": {},
   "outputs": [],
   "source": [
    "# Udfyld manglende talværdier med gennemsnittet\n",
    "data.fillna(data.mean(numeric_only=True), inplace=True)"
   ]
  },
  {
   "cell_type": "code",
   "execution_count": 25,
   "id": "3b96c3b8-314e-4337-b8b4-044abc655f40",
   "metadata": {},
   "outputs": [],
   "source": [
    "# Udfyld manglende tekstværdier med 'Ukendt'\n",
    "data.fillna('Ukendt', inplace=True)"
   ]
  },
  {
   "cell_type": "code",
   "execution_count": 26,
   "id": "87200410-81e6-4e11-943b-a3ed46a3cc08",
   "metadata": {},
   "outputs": [],
   "source": [
    "# Fjern duplikerede rækker\n",
    "data.drop_duplicates(inplace=True)"
   ]
  },
  {
   "cell_type": "code",
   "execution_count": 27,
   "id": "9662bfbf-90cd-4605-9f42-a062e2a4d1cb",
   "metadata": {},
   "outputs": [
    {
     "name": "stdout",
     "output_type": "stream",
     "text": [
      "\n",
      "Cleaned Data Preview:\n",
      "   # SalesOrderID  RevisionNumber  OrderDate    DueDate   ShipDate  \\\n",
      "0           43659               1 2001-07-01 2001-07-13 2001-07-08   \n",
      "1           43660               1 2001-07-01 2001-07-13 2001-07-08   \n",
      "2           43661               1 2001-07-01 2001-07-13 2001-07-08   \n",
      "3           43662               1 2001-07-01 2001-07-13 2001-07-08   \n",
      "4           43663               1 2001-07-01 2001-07-13 2001-07-08   \n",
      "\n",
      "   OnlineOrderFlag  CustomerID  ContactID  SalesPersonID  TerritoryID  \\\n",
      "0                0         676        378          279.0            5   \n",
      "1                0         117        216          279.0            5   \n",
      "2                0         442        281          282.0            6   \n",
      "3                0         227        564          282.0            6   \n",
      "4                0         510         97          276.0            4   \n",
      "\n",
      "   BillToAddressID  ShipToAddressID  ShipMethodID  TotalDue, USD  \\\n",
      "0              985              985             5     27231.5495   \n",
      "1              921              921             5      1716.1794   \n",
      "2              517              517             5     43561.4424   \n",
      "3              482              482             5     38331.9613   \n",
      "4             1073             1073             5       556.2026   \n",
      "\n",
      "   salesreasonId  \n",
      "0       2.615592  \n",
      "1       2.615592  \n",
      "2       2.615592  \n",
      "3       2.615592  \n",
      "4       2.615592  \n"
     ]
    }
   ],
   "source": [
    "print(\"\\nCleaned Data Preview:\")\n",
    "print(data.head())"
   ]
  },
  {
   "cell_type": "markdown",
   "id": "02b92aaa-9a8a-4de8-882c-cc320de32612",
   "metadata": {},
   "source": [
    "## Visualiserings"
   ]
  },
  {
   "cell_type": "code",
   "execution_count": 28,
   "id": "3fe295bf-87cd-47ad-ae79-8dfba66b04b8",
   "metadata": {},
   "outputs": [],
   "source": [
    "import matplotlib.pyplot as plt"
   ]
  },
  {
   "cell_type": "code",
   "execution_count": 29,
   "id": "cc7268f3-ebb5-412a-8067-b6c8a6ad2758",
   "metadata": {},
   "outputs": [
    {
     "data": {
      "image/png": "[encoded data removed]",
      "text/plain": [
       "<Figure size 640x480 with 1 Axes>"
      ]
     },
     "metadata": {},
     "output_type": "display_data"
    }
   ],
   "source": [
    "# Tegner et histogram over 'TotalDue, USD'\n",
    "plt.hist(data['TotalDue, USD'], bins=20)  # 'TotalDue, USD' viser salgsbeløbet\n",
    "plt.title('Fordeling af Total Due i USD')  # Sætter titlen på grafen\n",
    "plt.xlabel('Total Due (USD)')  # Navngiver X-aksen\n",
    "plt.ylabel('Frekvens')  # Navngiver Y-aksen\n",
    "plt.show()  # Viser grafen"
   ]
  },
  {
   "cell_type": "code",
   "execution_count": 30,
   "id": "3eb7faa6-d65d-4efa-adcc-754ba702419c",
   "metadata": {},
   "outputs": [],
   "source": [
    "import seaborn as sns"
   ]
  },
  {
   "cell_type": "code",
   "execution_count": 31,
   "id": "bcd4691e-f404-47a3-ac04-91ebbc0a4d68",
   "metadata": {},
   "outputs": [
    {
     "data": {
      "image/png": "[encoded data removed]",
      "text/plain": [
       "<Figure size 640x480 with 1 Axes>"
      ]
     },
     "metadata": {},
     "output_type": "display_data"
    }
   ],
   "source": [
    "# Tegner et scatter plot mellem 'OrderDate' og 'TotalDue, USD'\n",
    "sns.scatterplot(data=data, x='OrderDate', y='TotalDue, USD')  # Viser forholdet mellem dato og beløb\n",
    "plt.title('Ordredato vs. Total Due i USD')  # Sætter titlen på grafen\n",
    "plt.xlabel('Ordredato')  # Navngiver X-aksen\n",
    "plt.ylabel('Total Due (USD)')  # Navngiver Y-aksen\n",
    "plt.xticks(rotation=45)  # Roterer datoer for bedre læsbarhed\n",
    "plt.show()  # Viser grafen"
   ]
  },
  {
   "cell_type": "markdown",
   "id": "8a0af109-acbd-43a5-88b6-fce051c73e4e",
   "metadata": {},
   "source": [
    "## Læse JSON fra en URL"
   ]
  },
  {
   "cell_type": "code",
   "execution_count": 32,
   "id": "9034cf2c-7474-4b74-80e6-9076ca8e8eaf",
   "metadata": {},
   "outputs": [],
   "source": [
    "import requests\n",
    "import json\n",
    "import pandas as pd"
   ]
  },
  {
   "cell_type": "code",
   "execution_count": 33,
   "id": "fbbb0c7b-ed52-4cc1-a6df-d5ed71e31ca8",
   "metadata": {},
   "outputs": [],
   "source": [
    "# URL til JSON-data \n",
    "url = 'https://raw.githubusercontent.com/foxdocs/cph-bi-2024/main/Code/Readers/ReadWiki.ipynb'\n"
   ]
  },
  {
   "cell_type": "code",
   "execution_count": 34,
   "id": "2df0cc47-6995-4f8f-894f-bc575f2eef68",
   "metadata": {},
   "outputs": [],
   "source": [
    "# Hent data fra URL'en\n",
    "response = requests.get(url)"
   ]
  },
  {
   "cell_type": "code",
   "execution_count": 35,
   "id": "f9495ed0-82fe-4efb-9160-617e90f30f5d",
   "metadata": {},
   "outputs": [
    {
     "name": "stdout",
     "output_type": "stream",
     "text": [
      "data hentet og anmodningen var succesfuldt!\n"
     ]
    }
   ],
   "source": [
    "# Tjek om anmodningen var succesfuld\n",
    "if response.status_code == 200:\n",
    "    # Læs dataen som binært indhold og dekod til tekst\n",
    "    raw_data = response.content.decode('utf-8')\n",
    "    print(\"data hentet og anmodningen var succesfuldt!\")"
   ]
  },
  {
   "cell_type": "code",
   "execution_count": 36,
   "id": "3d8cbe12-ff39-4e03-ab9a-f33414bd8c42",
   "metadata": {},
   "outputs": [
    {
     "name": "stdout",
     "output_type": "stream",
     "text": [
      "JSON data hentet og konverteret succesfuldt!\n"
     ]
    }
   ],
   "source": [
    "   # Konverter den dekodede tekst til JSON-format\n",
    "data = json.loads(raw_data)\n",
    "print(\"JSON data hentet og konverteret succesfuldt!\")"
   ]
  },
  {
   "cell_type": "code",
   "execution_count": 37,
   "id": "ad62acd4-df83-4c58-acd7-4277dc2eda6f",
   "metadata": {},
   "outputs": [],
   "source": [
    "  # Udtræk cellerne fra dataen\n",
    "cells = data.get('cells', [])"
   ]
  },
  {
   "cell_type": "code",
   "execution_count": 38,
   "id": "d8593fda-0ba1-403d-8423-da34f641ec32",
   "metadata": {},
   "outputs": [
    {
     "name": "stdout",
     "output_type": "stream",
     "text": [
      "\n",
      "Celle 1: (markdown)\n",
      "# Search Web and Read Wikipedia\n",
      "\n",
      "Celle 2: (code)\n",
      "#!pip install wikipedia\n",
      "\n",
      "Celle 3: (code)\n",
      "#!pip install googlesearch-python\n",
      "\n",
      "Celle 4: (code)\n",
      "import requests\n",
      "import pandas as pd\n",
      "\n",
      "Celle 5: (code)\n",
      "%%writefile readwiki.py\n",
      "import wikipedia\n",
      "from googlesearch import search\n",
      "#  Read the main page\n",
      "def readWiki(subject, lang, n):\n",
      "    result = []\n",
      "    wdict = {}\n",
      "    wikipedia.set_lang(lang)\n",
      "    \n",
      "    wsum = wikipedia.summary(subject, sentences=n)\n",
      "    \n",
      "    wpage = wikipedia.page(subject)   \n",
      "    wtext = wpage.content\n",
      "    whtml = wpage.html\n",
      "    wlinks = wpage.links[0:n]\n",
      "    \n",
      "    wdict = {'url': wpage.url, 'title':wpage.title, 'summary': wsum, 'links':wlinks, 'html':whtml }\n",
      "    \n",
      "    result.append(wdict)\n",
      "    result.append(wtext)\n",
      "    return result\n",
      "\n",
      "# Read related pages that reference the main search\n",
      "from googlesearch import search\n",
      "def browseWeb(subject, lang, num): \n",
      "    list = []\n",
      "    for i in search(subject, num_results=num, lang=lang, advanced=True):\n",
      "        list.append(i)\n",
      "    return list\n",
      "\n",
      "\n",
      "Celle 6: (markdown)\n",
      "## Test the Functions\n",
      "\n",
      "Celle 7: (code)\n",
      "import readwiki\n",
      "from readwiki import readWiki, browseWeb\n",
      "\n",
      "Celle 8: (code)\n",
      "import importlib \n",
      "importlib.reload(readwiki)\n",
      "\n",
      "Celle 9: (code)\n",
      "# select the subject\n",
      "#subject = 'Copenhagen Business Academy'\n",
      "subject = \"Trump\"\n",
      "\n",
      "Celle 10: (markdown)\n",
      "### Test Wikipedia Search\n",
      "\n",
      "Celle 11: (code)\n",
      "# subject = pd.DataFrame(tab.name)\n",
      "\n",
      "Celle 12: (code)\n",
      "result = readWiki(subject, 'en', 5)\n",
      "\n",
      "Celle 13: (code)\n",
      "result[0]\n",
      "\n",
      "Celle 14: (code)\n",
      "result[0]['url']\n",
      "\n",
      "Celle 15: (code)\n",
      "result[0]['links']\n",
      "\n",
      "Celle 16: (code)\n",
      "result[0]['summary']\n",
      "\n",
      "Celle 17: (markdown)\n",
      "### Test Google Search\n",
      "\n",
      "Celle 18: (code)\n",
      "links = browseWeb(subject, 'en', 10)\n",
      "\n",
      "Celle 19: (code)\n",
      "len(links)\n",
      "\n",
      "Celle 20: (code)\n",
      "links[0]\n",
      "\n",
      "Celle 21: (code)\n",
      "for num in range(len(links)):\n",
      "      print(f\"{num}. {links[num].url}\")\n",
      "\n",
      "Celle 22: (markdown)\n",
      "## Store Search Results in DataFrame\n",
      "\n",
      "Celle 23: (code)\n",
      "df = pd.DataFrame(columns = ['url', 'title', 'description'])\n",
      "\n",
      "Celle 24: (code)\n",
      "#add rows to df\n",
      "for index in range(len(links)):\n",
      "    df.loc[len(df.index)] = [links[index].url, links[index].title, links[index].description ]\n",
      "\n",
      "Celle 25: (code)\n",
      "df\n",
      "\n",
      "Celle 26: (code)\n",
      "\n"
     ]
    }
   ],
   "source": [
    "   for i, cell in enumerate(cells):\n",
    "        cell_type = cell.get('cell_type', 'ukendt')\n",
    "        content = ''.join(cell.get('source', []))\n",
    "        print(f\"\\nCelle {i + 1}: ({cell_type})\")\n",
    "        print(content)\n"
   ]
  },
  {
   "cell_type": "markdown",
   "id": "3fd0f48b-932d-4fa8-b2a2-0160c7c76e7e",
   "metadata": {},
   "source": [
    "## Search Web and Read Wikipedia"
   ]
  },
  {
   "cell_type": "code",
   "execution_count": 3,
   "id": "daded90e-b86d-4883-95f7-71c08ec47b77",
   "metadata": {
    "scrolled": true
   },
   "outputs": [
    {
     "name": "stdout",
     "output_type": "stream",
     "text": [
      "Requirement already satisfied: googlesearch-python in c:\\users\\moham\\anaconda3\\lib\\site-packages (1.2.5)\n",
      "Requirement already satisfied: beautifulsoup4>=4.9 in c:\\users\\moham\\anaconda3\\lib\\site-packages (from googlesearch-python) (4.12.3)\n",
      "Requirement already satisfied: requests>=2.20 in c:\\users\\moham\\anaconda3\\lib\\site-packages (from googlesearch-python) (2.32.2)\n",
      "Requirement already satisfied: soupsieve>1.2 in c:\\users\\moham\\anaconda3\\lib\\site-packages (from beautifulsoup4>=4.9->googlesearch-python) (2.5)\n",
      "Requirement already satisfied: charset-normalizer<4,>=2 in c:\\users\\moham\\anaconda3\\lib\\site-packages (from requests>=2.20->googlesearch-python) (2.0.4)\n",
      "Requirement already satisfied: idna<4,>=2.5 in c:\\users\\moham\\anaconda3\\lib\\site-packages (from requests>=2.20->googlesearch-python) (3.7)\n",
      "Requirement already satisfied: urllib3<3,>=1.21.1 in c:\\users\\moham\\anaconda3\\lib\\site-packages (from requests>=2.20->googlesearch-python) (2.2.2)\n",
      "Requirement already satisfied: certifi>=2017.4.17 in c:\\users\\moham\\anaconda3\\lib\\site-packages (from requests>=2.20->googlesearch-python) (2024.6.2)\n"
     ]
    }
   ],
   "source": [
    "!pip install googlesearch-python"
   ]
  },
  {
   "cell_type": "code",
   "execution_count": 7,
   "id": "4aa88ff8-fb14-4538-aa53-33cdf3bb4c8e",
   "metadata": {},
   "outputs": [
    {
     "name": "stdout",
     "output_type": "stream",
     "text": [
      "Requirement already satisfied: wikipedia-api in c:\\users\\moham\\anaconda3\\lib\\site-packages (0.7.1)\n",
      "Requirement already satisfied: requests in c:\\users\\moham\\anaconda3\\lib\\site-packages (from wikipedia-api) (2.32.2)\n",
      "Requirement already satisfied: charset-normalizer<4,>=2 in c:\\users\\moham\\anaconda3\\lib\\site-packages (from requests->wikipedia-api) (2.0.4)\n",
      "Requirement already satisfied: idna<4,>=2.5 in c:\\users\\moham\\anaconda3\\lib\\site-packages (from requests->wikipedia-api) (3.7)\n",
      "Requirement already satisfied: urllib3<3,>=1.21.1 in c:\\users\\moham\\anaconda3\\lib\\site-packages (from requests->wikipedia-api) (2.2.2)\n",
      "Requirement already satisfied: certifi>=2017.4.17 in c:\\users\\moham\\anaconda3\\lib\\site-packages (from requests->wikipedia-api) (2024.6.2)\n"
     ]
    }
   ],
   "source": [
    "!pip install wikipedia-api\n"
   ]
  },
  {
   "cell_type": "code",
   "execution_count": 32,
   "id": "dabd76d8-8358-4a50-be68-2ff5fca302d3",
   "metadata": {},
   "outputs": [
    {
     "name": "stdout",
     "output_type": "stream",
     "text": [
      "Overwriting readwiki.py\n"
     ]
    }
   ],
   "source": [
    "%%writefile readwiki.py\n",
    "import requests\n",
    "import pandas as pd\n",
    "import wikipediaapi\n",
    "from googlesearch import search"
   ]
  },
  {
   "cell_type": "code",
   "execution_count": 56,
   "id": "3a2021df-2055-430d-b09a-1bae861f46d2",
   "metadata": {},
   "outputs": [],
   "source": [
    "# Funktion til at læse en Wikipedia-side\n",
    "def readWiki(subject, lang='en', n=5):\n",
    "    user_agent = \"https://da.wikipedia.org\"\n",
    "    \n",
    "    # Opret et Wikipedia API-objekt med det ønskede sprog og brugeragent\n",
    "    wiki_wiki = wikipediaapi.Wikipedia(\n",
    "        language=lang,\n",
    "        user_agent=user_agent\n",
    "    )\n",
    "    \n",
    "    # Hent siden baseret på emnet\n",
    "    page = wiki_wiki.page(subject)\n",
    "\n",
    "    # Tjek om siden eksisterer\n",
    "    if page.exists():\n",
    "        # Hent de første n sætninger i opsummeringen\n",
    "        summary = page.summary.split('\\n')[:n]\n",
    "        \n",
    "        # Opret et dictionary med de nødvendige informationer\n",
    "        wdict = {\n",
    "            'url': page.fullurl,\n",
    "            'title': page.title,\n",
    "            'summary': ' '.join(summary),  # Kombiner sætningerne til en opsummering\n",
    "            'links': list(page.links.keys())[:n],  # Udtræk de første n links fra siden\n",
    "            'html': page.text[:500]  # Hent de første 500 tegn af sidens tekst\n",
    "        }\n",
    "\n",
    "        # Tilføj resultaterne til listen\n",
    "        result = [wdict, page.text]\n",
    "    else:\n",
    "        print(f\"Siden '{subject}' findes ikke.\")\n",
    "        result = []  # Returner en tom liste, hvis siden ikke findes\n",
    "\n",
    "    return result"
   ]
  },
  {
   "cell_type": "code",
   "execution_count": 58,
   "id": "7962e1f7-7db2-442e-b414-53fcb840b97b",
   "metadata": {},
   "outputs": [
    {
     "name": "stdout",
     "output_type": "stream",
     "text": [
      "Wikipedia Information:\n",
      "{'url': 'https://en.wikipedia.org/wiki/Program', 'title': 'Program', 'summary': 'Program, programme, programmer, or programming may refer to:', 'links': ['Application software', 'B-movie', 'Broadcast programming', 'Computer program', 'Computer programming'], 'html': 'Program, programme, programmer, or programming may refer to:\\n\\nBusiness and management\\nProgram management, the process of managing several related projects\\nTime management\\nProgram, a part of planning\\n\\nArts and entertainment\\nAudio\\nProgramming (music), generating music electronically\\nRadio programming, act of scheduling content for radio\\nSynthesizer programmer, a person who develops the instrumentation for a piece of music\\n\\nVideo or television\\nBroadcast programming, scheduling content for televisio'}\n"
     ]
    }
   ],
   "source": [
    "# Eksempel på brug af funktionen\n",
    "result = readWiki('Programming', lang='en', n=5)\n",
    "print(\"Wikipedia Information:\")\n",
    "if result:\n",
    "    print(result[0])  # Udskriver de opsummerede oplysninger fra Wikipedia\n",
    "else:\n",
    "    print(\"Ingen information fundet.\")"
   ]
  },
  {
   "cell_type": "code",
   "execution_count": 1,
   "id": "ee27b6d0-ac25-4dff-8e5b-b2dc86e6a8ec",
   "metadata": {},
   "outputs": [
    {
     "name": "stdout",
     "output_type": "stream",
     "text": [
      "C:\\Users\\moham\\Downloads\\Python\\newnotebook\n"
     ]
    }
   ],
   "source": [
    "import os\n",
    "print(os.getcwd())"
   ]
  },
  {
   "cell_type": "code",
   "execution_count": null,
   "id": "46c6fb81-0b6b-4bb7-9664-5da4a67143a1",
   "metadata": {},
   "outputs": [],
   "source": []
  }
 ],
 "metadata": {
  "kernelspec": {
   "display_name": "Python 3 (ipykernel)",
   "language": "python",
   "name": "python3"
  },
  "language_info": {
   "codemirror_mode": {
    "name": "ipython",
    "version": 3
   },
   "file_extension": ".py",
   "mimetype": "text/x-python",
   "name": "python",
   "nbconvert_exporter": "python",
   "pygments_lexer": "ipython3",
   "version": "3.12.4"
  }
 },
 "nbformat": 4,
 "nbformat_minor": 5
}
